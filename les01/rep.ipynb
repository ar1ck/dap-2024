{
  "nbformat": 4,
  "nbformat_minor": 0,
  "metadata": {
    "colab": {
      "provenance": [],
      "authorship_tag": "ABX9TyMDcgLZKpcH/1gtV/q+m9fQ"
    },
    "kernelspec": {
      "name": "python3",
      "display_name": "Python 3"
    },
    "language_info": {
      "name": "python"
    }
  },
  "cells": [
    {
      "cell_type": "code",
      "execution_count": null,
      "metadata": {
        "id": "QM-MlYG5ZH-5"
      },
      "outputs": [],
      "source": [
        "# Лабораторная работа №1\n",
        "### Подготовка среды для анализа данных\n",
        "\n",
        "#### Выполненные шаги:\n",
        "1. Создана учетная запись GitHub.\n",
        "2. Выполнен форк репозитория [dap-2024](https://github.com/chebotarevsa/dap-2024).\n",
        "3. Настроена интеграция Google Colab и GitHub.\n",
        "4. Создан отчет о выполненной работе.\n",
        "\n",
        "#### Ссылки:\n",
        "https://github.com/ar1ck/dap-2024/tree/main\n"
      ]
    }
  ]
}