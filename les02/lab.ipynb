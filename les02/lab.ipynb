{
  "cells": [
    {
      "cell_type": "markdown",
      "metadata": {
        "id": "k_Ijv9FrqiK9"
      },
      "source": [
        "# Лабораторная работа №2. Основы Python"
      ]
    },
    {
      "cell_type": "markdown",
      "metadata": {
        "id": "Ly4jNcTfqiK-"
      },
      "source": [
        "## Задание"
      ]
    },
    {
      "cell_type": "markdown",
      "metadata": {
        "id": "Fpuath-PqiK-"
      },
      "source": [
        "Выполните следующие задания:\n",
        "\n",
        "1. Откройте в файл в Google Colab (используйте собственный форк репозитория).\n",
        "2. Решите задачи.\n",
        "3. Сохраните результат в ваш репозиторий github в директорию ./les02\n",
        "4. Создайте pull request в репозиторий https://github.com/chebotarevsa/dap-2024. Название pull request должно иметь формат \"<Номер лабораторной работы>  <Номер группы> <ФИО>\"\n",
        "5. Сдайте работу в системе \"Пегас\", в отчет укажите ссылку на pull request"
      ]
    },
    {
      "cell_type": "markdown",
      "metadata": {
        "id": "2CVygORrqiK-"
      },
      "source": [
        "Задача №1. https://leetcode.com/problems/two-sum/"
      ]
    },
    {
      "cell_type": "code",
      "execution_count": 12,
      "metadata": {
        "id": "xtqv-hNZqiK-"
      },
      "outputs": [],
      "source": [
        "class Solution1(object):\n",
        "    def twoSum(self, nums, target):\n",
        "        \"\"\"\n",
        "        :type nums: List[int]\n",
        "        :type target: int\n",
        "        :rtype: List[int]\n",
        "        \"\"\"\n",
        "        # Ваше решение\n",
        "        num_map = {}\n",
        "        for i, num in enumerate(nums):\n",
        "            complement = target - num\n",
        "            if complement in num_map:\n",
        "                return [num_map[complement], i]\n",
        "            num_map[num] = i\n",
        ""
      ]
    },
    {
      "cell_type": "markdown",
      "metadata": {
        "id": "TDiYs3O1qiK_"
      },
      "source": [
        "Задача №2. https://leetcode.com/problems/palindrome-number/description/"
      ]
    },
    {
      "cell_type": "code",
      "execution_count": 13,
      "metadata": {
        "id": "Ah4w2dEHqiK_"
      },
      "outputs": [],
      "source": [
        "class Solution2(object):\n",
        "    def isPalindrome(self, x):\n",
        "        \"\"\"\n",
        "        :type x: int\n",
        "        :rtype: bool\n",
        "        \"\"\"\n",
        "\n",
        "        # Ваше решение\n",
        "        if x < 0:\n",
        "            return False\n",
        "        return str(x) == str(x)[::-1]"
      ]
    },
    {
      "cell_type": "markdown",
      "metadata": {
        "id": "2OSlxRT4qiK_"
      },
      "source": [
        "Задача №3. https://leetcode.com/problems/roman-to-integer/description/"
      ]
    },
    {
      "cell_type": "code",
      "execution_count": 14,
      "metadata": {
        "id": "BghUQauaqiK_"
      },
      "outputs": [],
      "source": [
        "class Solution3(object):\n",
        "    def romanToInt(self, s):\n",
        "        \"\"\"\n",
        "        :type s: str\n",
        "        :rtype: int\n",
        "        \"\"\"\n",
        "\n",
        "        # Ваше решение\n",
        "        roman_map = {'I': 1, 'V': 5, 'X': 10, 'L': 50, 'C': 100, 'D': 500, 'M': 1000}\n",
        "        total = 0\n",
        "        prev = 0\n",
        "        for char in reversed(s):\n",
        "            current = roman_map[char]\n",
        "            if current < prev:\n",
        "                total -= current\n",
        "            else:\n",
        "                total += current\n",
        "            prev = current\n",
        "        return total"
      ]
    },
    {
      "cell_type": "markdown",
      "metadata": {
        "id": "qk5cB78lqiK_"
      },
      "source": [
        "Задача №4. https://leetcode.com/problems/longest-common-prefix/description/"
      ]
    },
    {
      "cell_type": "code",
      "execution_count": 15,
      "metadata": {
        "id": "uQyKmA3fqiK_"
      },
      "outputs": [],
      "source": [
        "class Solution4(object):\n",
        "    def longestCommonPrefix(self, strs):\n",
        "        \"\"\"\n",
        "        :type strs: List[str]\n",
        "        :rtype: str\n",
        "        \"\"\"\n",
        "        # Ваше решение\n",
        "        if not strs:\n",
        "            return \"\"\n",
        "        prefix = strs[0]\n",
        "        for string in strs[1:]:\n",
        "            while not string.startswith(prefix):\n",
        "                prefix = prefix[:-1]\n",
        "                if not prefix:\n",
        "                    return \"\"\n",
        "        return prefix"
      ]
    },
    {
      "cell_type": "markdown",
      "metadata": {
        "id": "eoa9OlT9qiK_"
      },
      "source": [
        "Задача №5. https://leetcode.com/problems/merge-two-sorted-lists/description/"
      ]
    },
    {
      "cell_type": "code",
      "execution_count": 16,
      "metadata": {
        "id": "nZo5lZOAqiLA"
      },
      "outputs": [],
      "source": [
        "class Solution5(object):\n",
        "    def mergeTwoLists(self, list1, list2):\n",
        "        \"\"\"\n",
        "        :type list1: Optional[ListNode]\n",
        "        :type list2: Optional[ListNode]\n",
        "        :rtype: Optional[ListNode]\n",
        "        \"\"\"\n",
        "\n",
        "        # Ваше решение\n",
        "        dummy = ListNode(-1)\n",
        "        current = dummy\n",
        "        while list1 and list2:\n",
        "            if list1.val <= list2.val:\n",
        "                current.next = list1\n",
        "                list1 = list1.next\n",
        "            else:\n",
        "                current.next = list2\n",
        "                list2 = list2.next\n",
        "            current = current.next\n",
        "        current.next = list1 if list1 else list2\n",
        "        return dummy.next"
      ]
    },
    {
      "cell_type": "markdown",
      "metadata": {
        "id": "jPb8P6kNqiLA"
      },
      "source": [
        "Задача №6. https://leetcode.com/problems/longest-substring-without-repeating-characters/description/"
      ]
    },
    {
      "cell_type": "code",
      "execution_count": 17,
      "metadata": {
        "id": "zdLcDfnEqiLA"
      },
      "outputs": [],
      "source": [
        "class Solution(object):\n",
        "    def lengthOfLongestSubstring(self, s):\n",
        "        \"\"\"\n",
        "        :type s: str\n",
        "        :rtype: int\n",
        "        \"\"\"\n",
        "\n",
        "        # Ваше решение\n",
        "        char_set = set()\n",
        "        left = 0\n",
        "        max_length = 0\n",
        "\n",
        "        for right in range(len(s)):\n",
        "            while s[right] in char_set:\n",
        "                char_set.remove(s[left])\n",
        "                left += 1\n",
        "            char_set.add(s[right])\n",
        "            max_length = max(max_length, right - left + 1)\n",
        "\n",
        "        return max_length"
      ]
    },
    {
      "cell_type": "markdown",
      "metadata": {
        "id": "sWXud9g_qiLA"
      },
      "source": [
        "## Вопросы\n",
        "\n",
        "1. Что такое динамическая типизация и чем она отличается от статической?\n",
        "Динамическая типизация — это определение типа переменной во время выполнения программы, а не на этапе компиляции. В статической типизации тип переменной задается явно и не может изменяться.\n",
        "\n",
        "2. Чем отличается цикл for в Python от цикла for в C++?\n",
        "В Python цикл for используется для итерации по элементам последовательности (списков, строк и т.д.), а в C++ он выполняет действия с явно заданными параметрами (инициализация, условие, шаг).\n",
        "\n",
        "3. Для чего предназначены операторы continue и break?\n",
        "continue пропускает текущую итерацию и переходит к следующей, а break завершает выполнение цикла досрочно.\n",
        "\n",
        "4. Как определить функцию в Python? Может ли функция возвращать несколько значений?\n",
        "Функция определяется с использованием ключевого слова def, а возвращать несколько значений она может, упаковывая их в одну структуру, например, кортеж.\n",
        "\n",
        "5. Что такое лямбда-функции и для чего они предназначены?\n",
        "Лямбда-функции — это анонимные функции, определяемые одной строкой. Используются для создания простых функций без явного объявления.\n",
        "\n",
        "6. Может ли тело функции содержать определение другой функции?\n",
        "Да, функции могут быть вложенными. Это используется для изоляции вспомогательной логики.\n",
        "\n",
        "7. Как определить класс в Python? Для чего нужна переменная self?\n",
        "Класс определяется с использованием ключевого слова class. Переменная self используется для обращения к атрибутам и методам текущего экземпляра класса.\n",
        "\n",
        "8. Как определить приватный метод? Можно ли вызвать приватный метод за пределами класса?\n",
        "Приватный метод обозначается двумя подчеркиваниями в начале имени. За пределами класса его можно вызвать с использованием специального синтаксиса, но это не рекомендуется.\n",
        "\n",
        "9. Как определить статический метод класса? Для чего может понадобиться статический метод?\n",
        "Статический метод определяется с помощью декоратора @staticmethod. Он используется для создания методов, которые не зависят от состояния объекта.\n",
        "\n",
        "10. Чем staticmethod отличается от classmethod?\n",
        "staticmethod не принимает ссылку на класс или объект, а classmethod принимает ссылку на класс как первый аргумент.\n",
        "\n",
        "11. Как определить собственный класс исключений Python? Как выбросить и перехватить исключение?\n",
        "Собственный класс исключений создается путем наследования от Exception. Исключение выбрасывается с помощью raise, а перехватывается в блоке try-except.\n",
        "\n",
        "12. Что такое кортеж, для чего он используется?\n",
        "Кортеж — это неизменяемая структура данных, похожая на список. Используется для хранения фиксированного набора значений.\n"
      ]
    }
  ],
  "metadata": {
    "language_info": {
      "name": "python"
    },
    "colab": {
      "provenance": []
    },
    "kernelspec": {
      "name": "python3",
      "display_name": "Python 3"
    }
  },
  "nbformat": 4,
  "nbformat_minor": 0
}