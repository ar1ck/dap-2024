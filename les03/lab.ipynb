{
  "cells": [
    {
      "cell_type": "markdown",
      "metadata": {
        "id": "qQvfD-M40xIt"
      },
      "source": [
        "# Лабораторная работа №3. NumPy"
      ]
    },
    {
      "cell_type": "markdown",
      "metadata": {
        "id": "EVqp5g74lDTg"
      },
      "source": [
        "## Задание"
      ]
    },
    {
      "cell_type": "markdown",
      "metadata": {
        "id": "Q8FFEA2R08uS"
      },
      "source": [
        "Выполните следующие задания:\n",
        "\n",
        "1. Откройте в файл в Google Colab (используйте собственный форк репозитория).\n",
        "2. Решите задачи.\n",
        "3. Сохраните результат в ваш репозиторий github в директорию ./les03\n",
        "4. Создайте pull request в репозиторий https://github.com/chebotarevsa/dap-2024. Название pull request должно иметь формат \"<Номер лабораторной работы>  <Номер группы> <ФИО>\"\n",
        "5. Сдайте работу в системе \"Пегас\", в отчет укажите ссылку на pull request"
      ]
    },
    {
      "cell_type": "code",
      "execution_count": 3,
      "metadata": {
        "colab": {
          "base_uri": "https://localhost:8080/",
          "height": 35
        },
        "id": "3ftbuMN45IlN",
        "outputId": "99ab40e8-9905-4893-8849-53d5883ab846"
      },
      "outputs": [
        {
          "output_type": "execute_result",
          "data": {
            "text/plain": [
              "'1.26.4'"
            ],
            "application/vnd.google.colaboratory.intrinsic+json": {
              "type": "string"
            }
          },
          "metadata": {},
          "execution_count": 3
        }
      ],
      "source": [
        "import numpy as np\n",
        "np.version.version"
      ]
    },
    {
      "cell_type": "markdown",
      "metadata": {
        "id": "6iPL4gTu2ECp"
      },
      "source": [
        "1. Создать массив 10x10 со случайными значениями, найти минимум и максимум (низкая)"
      ]
    },
    {
      "cell_type": "code",
      "execution_count": 4,
      "metadata": {
        "id": "v-AutHvo2T-D",
        "outputId": "ba45d934-e9b6-439f-8d3e-6d332ae5d7b5",
        "colab": {
          "base_uri": "https://localhost:8080/"
        }
      },
      "outputs": [
        {
          "output_type": "stream",
          "name": "stdout",
          "text": [
            "Минимум: 0.0050747491884957086, Максимум: 0.9999673383155611\n"
          ]
        }
      ],
      "source": [
        "z = np.random.random((10, 10))\n",
        "z_min, z_max = z.min(), z.max()\n",
        "print(f\"Минимум: {z_min}, Максимум: {z_max}\")"
      ]
    },
    {
      "cell_type": "markdown",
      "metadata": {
        "id": "cwxKoGik2Xfd"
      },
      "source": [
        "2. Создать 8x8 матрицу и заполнить её единицами и нулями в шахматном порядке"
      ]
    },
    {
      "cell_type": "code",
      "execution_count": 7,
      "metadata": {
        "id": "zACAjKWC2lBy",
        "outputId": "919a11bc-ec48-41df-8119-4b095d5dcfee",
        "colab": {
          "base_uri": "https://localhost:8080/"
        }
      },
      "outputs": [
        {
          "output_type": "stream",
          "name": "stdout",
          "text": [
            "[[0 1 0 1 0 1 0 1]\n",
            " [1 0 1 0 1 0 1 0]\n",
            " [0 1 0 1 0 1 0 1]\n",
            " [1 0 1 0 1 0 1 0]\n",
            " [0 1 0 1 0 1 0 1]\n",
            " [1 0 1 0 1 0 1 0]\n",
            " [0 1 0 1 0 1 0 1]\n",
            " [1 0 1 0 1 0 1 0]]\n"
          ]
        }
      ],
      "source": [
        "z = np.zeros((8, 8), dtype=int)\n",
        "z[1::2, ::2] = 1\n",
        "z[::2, 1::2] = 1\n",
        "print(z[::-1, ::-1])"
      ]
    },
    {
      "cell_type": "markdown",
      "metadata": {
        "id": "YvNFm7Io2tSA"
      },
      "source": [
        "3. Дан массив из 11 элементов, поменять знак у элементов, значения которых между 3 и 8"
      ]
    },
    {
      "cell_type": "code",
      "execution_count": null,
      "metadata": {
        "id": "cczoe3OY27fA",
        "outputId": "43511fbd-9ba6-4dda-b6de-7914ab2100ab",
        "colab": {
          "base_uri": "https://localhost:8080/"
        }
      },
      "outputs": [
        {
          "output_type": "stream",
          "name": "stdout",
          "text": [
            "[ 0  1  2  3 -4 -5 -6 -7  8  9 10]\n"
          ]
        }
      ],
      "source": [
        "z = np.arange(11)\n",
        "z[(z > 3) & (z < 8)] *= -1\n",
        "print(z)"
      ]
    },
    {
      "cell_type": "markdown",
      "metadata": {
        "id": "tInYHRPf2-jQ"
      },
      "source": [
        "4. Найти среднее заначение строки матрицы и вычесть его из каждого елемента строки"
      ]
    },
    {
      "cell_type": "code",
      "execution_count": null,
      "metadata": {
        "id": "Zbv_WG9w3km1",
        "outputId": "fd78d3e4-f178-4715-e41e-8771022d7cba",
        "colab": {
          "base_uri": "https://localhost:8080/"
        }
      },
      "outputs": [
        {
          "output_type": "stream",
          "name": "stdout",
          "text": [
            "[[-0.36196953  0.07664904  0.3709067  -0.23449953  0.48508764  0.10610844\n",
            "   0.4184137  -0.32894376 -0.30994238 -0.2218103 ]\n",
            " [-0.2154776  -0.30362383  0.51832004 -0.01527305 -0.13324328 -0.10634468\n",
            "   0.4859343  -0.10828846 -0.13208006  0.01007661]\n",
            " [ 0.09249369 -0.45408441  0.06945668 -0.1392217  -0.38319306  0.38166829\n",
            "   0.12663547  0.12416353  0.34575829 -0.16367678]\n",
            " [ 0.44266362 -0.36362681 -0.04024651 -0.38560117 -0.290581    0.52552737\n",
            "   0.48311127 -0.37106442 -0.20656027  0.20637791]\n",
            " [ 0.22644459 -0.03023834  0.33907237 -0.29107318  0.23372061  0.16001433\n",
            "   0.02026495 -0.02187989 -0.34927091 -0.28705452]]\n"
          ]
        }
      ],
      "source": [
        "z = np.random.rand(5, 10)\n",
        "z -= z.mean(axis=1, keepdims=True)\n",
        "print(z)"
      ]
    },
    {
      "cell_type": "markdown",
      "metadata": {
        "id": "OStor4mW3lpJ"
      },
      "source": [
        "5. Поменяйте 1 и 2 строки матрицы"
      ]
    },
    {
      "cell_type": "code",
      "execution_count": null,
      "metadata": {
        "id": "5vfeHqyF3qKd",
        "outputId": "b3f4b399-8c8f-4b21-fb44-ec7d26a97182",
        "colab": {
          "base_uri": "https://localhost:8080/"
        }
      },
      "outputs": [
        {
          "output_type": "stream",
          "name": "stdout",
          "text": [
            "[[ 5  6  7  8  9]\n",
            " [ 0  1  2  3  4]\n",
            " [10 11 12 13 14]\n",
            " [15 16 17 18 19]\n",
            " [20 21 22 23 24]]\n"
          ]
        }
      ],
      "source": [
        "z = np.arange(25).reshape(5, 5)\n",
        "z[[0, 1]] = z[[1, 0]]\n",
        "print(z)"
      ]
    },
    {
      "cell_type": "markdown",
      "metadata": {
        "id": "IPQ9xIIk3qml"
      },
      "source": [
        "6. Дан массив 10x2 подеставлющий собой точки в декартовой системе координат, преобразовать в полярную"
      ]
    },
    {
      "cell_type": "code",
      "execution_count": null,
      "metadata": {
        "id": "zGHBaX8b30Uv",
        "outputId": "fdafe5c3-301c-4afd-b4a5-1eae0eafc472",
        "colab": {
          "base_uri": "https://localhost:8080/"
        }
      },
      "outputs": [
        {
          "output_type": "stream",
          "name": "stdout",
          "text": [
            "[[0.857668   0.67332426]\n",
            " [0.87580537 0.73047143]\n",
            " [1.25352143 0.75952696]\n",
            " [1.12713296 0.59807518]\n",
            " [0.98068538 0.3473184 ]\n",
            " [1.29083289 0.85219472]\n",
            " [1.19350022 0.59819479]\n",
            " [0.41658276 1.31045064]\n",
            " [0.71265633 0.26854985]\n",
            " [1.03801307 0.66135764]]\n"
          ]
        }
      ],
      "source": [
        "z = np.random.random((10, 2))\n",
        "x, y = z[:, 0], z[:, 1]\n",
        "r = np.sqrt(x**2 + y**2)\n",
        "theta = np.arctan2(y, x)\n",
        "polar_coordinates = np.column_stack((r, theta))\n",
        "print(polar_coordinates)"
      ]
    },
    {
      "cell_type": "markdown",
      "metadata": {
        "id": "10gbuTgE4AOH"
      },
      "source": [
        "7. Заменить максимальный элемент массива на ноль"
      ]
    },
    {
      "cell_type": "code",
      "execution_count": null,
      "metadata": {
        "id": "gqwuO2T_5Aqd",
        "outputId": "e6de28a2-94d9-46ee-a9eb-2762cd9e6d6a",
        "colab": {
          "base_uri": "https://localhost:8080/"
        }
      },
      "outputs": [
        {
          "output_type": "stream",
          "name": "stdout",
          "text": [
            "[0.11014313 0.28660031 0.24674825 0.39536244 0.08008805 0.\n",
            " 0.11351953 0.35450114 0.38281805 0.33456986]\n"
          ]
        }
      ],
      "source": [
        "z = np.random.random(10)\n",
        "z[z.argmax()] = 0\n",
        "print(z)"
      ]
    },
    {
      "cell_type": "markdown",
      "metadata": {
        "id": "88m_eWXM6nZY"
      },
      "source": [
        "8. Дан массив, добавить 1 к каждому элементу с индексом, заданным в другом массиве. Добавление производиться только 1 раз"
      ]
    },
    {
      "cell_type": "code",
      "execution_count": null,
      "metadata": {
        "id": "-5yj9k126pfh",
        "outputId": "01ceea3e-9ab9-489e-91c8-5f56b8c5dbb5",
        "colab": {
          "base_uri": "https://localhost:8080/"
        }
      },
      "outputs": [
        {
          "output_type": "stream",
          "name": "stdout",
          "text": [
            "[3. 3. 2. 4. 3. 3. 5. 2. 2. 3.]\n"
          ]
        }
      ],
      "source": [
        "z = np.ones(10)\n",
        "i = np.random.randint(0, len(z), 20)\n",
        "z += np.bincount(i, minlength=len(z))\n",
        "print(z)"
      ]
    },
    {
      "cell_type": "markdown",
      "metadata": {
        "id": "0HByAVK77JCG"
      },
      "source": [
        "9. Дан вектор [1, 2, 3, 4, 5], построить новый вектор с тремя нулями между каждым значением"
      ]
    },
    {
      "cell_type": "code",
      "execution_count": null,
      "metadata": {
        "id": "2AiZt-J47dqq",
        "outputId": "d91660d0-6362-401f-8c61-28752392b444",
        "colab": {
          "base_uri": "https://localhost:8080/"
        }
      },
      "outputs": [
        {
          "output_type": "stream",
          "name": "stdout",
          "text": [
            "[1 0 0 0 2 0 0 0 3 0 0 0 4 0 0 0 5]\n"
          ]
        }
      ],
      "source": [
        "z = np.array([1, 2, 3, 4, 5])\n",
        "z_new = np.zeros(len(z) * 4 - 3, dtype=int)\n",
        "z_new[::4] = z\n",
        "print(z_new)"
      ]
    },
    {
      "cell_type": "markdown",
      "metadata": {
        "id": "i0uK-dO08AKP"
      },
      "source": [
        "10. Найти ближайшее к заданному значению число в заданном массиве"
      ]
    },
    {
      "cell_type": "code",
      "execution_count": null,
      "metadata": {
        "id": "sE0DlZO_-4Cb",
        "outputId": "f0a3e141-e946-488b-e7fe-8fc1e8277d3d",
        "colab": {
          "base_uri": "https://localhost:8080/"
        }
      },
      "outputs": [
        {
          "output_type": "stream",
          "name": "stdout",
          "text": [
            "Заданное значение: 31.892821554039806, Ближайшее значение: 32\n"
          ]
        }
      ],
      "source": [
        "z = np.arange(100)\n",
        "v = np.random.uniform(0, 100)\n",
        "closest_value = z[np.abs(z - v).argmin()]\n",
        "print(f\"Заданное значение: {v}, Ближайшее значение: {closest_value}\")"
      ]
    },
    {
      "cell_type": "markdown",
      "metadata": {
        "id": "0zUpsgh8uCfQ"
      },
      "source": [
        "## Вопросы\n",
        "\n",
        "\n"
      ]
    },
    {
      "cell_type": "markdown",
      "metadata": {
        "id": "RQEMkoq5vc3k"
      },
      "source": [
        "**1**. Какой тип (dtype) будут иметь элементы массива?\n",
        "``` python\n",
        "np.array([1, 4, 2, 5, 3])                # int64 (по умолчанию для целых чисел)\n",
        "np.array([1., 4, 2, 5, 3])              # float64 (по умолчанию для вещественных чисел)\n",
        "np.array([1, 4, 2, 5, 3], dtype='float128') # float128 (если поддерживается вашей системой)\n",
        "np.array([1., 4, 2, 5, 3], dtype='complex128') # complex128 (комплексные числа)\n",
        "np.array([1, 4, 2, 5, 3], dtype='float64')   # float64 (явно указан тип)\n",
        "np.array([1, 4, 2, 5, 3], dtype='int64')     # int64 (явно указан тип)\n",
        "np.array([1, 4, 2, 5, 3], dtype='bool')      # bool (1 -> True, все остальные значения -> True)\n",
        "np.array([1, 4, 2, 5, 3], dtype='str')       # str (строковый тип)\n",
        "np.array([1, 4, 2, 5, '3'])                  # str (из-за строкового элемента '3')\n",
        "np.array([1, -4, 2, 0, 1j])                  # complex128 (из-за элемента `1j`)\n",
        "```"
      ]
    },
    {
      "cell_type": "markdown",
      "metadata": {
        "id": "SlJfe4Bgvd16"
      },
      "source": [
        "**2**. Что будет выведено в консоль и почему?\n",
        "``` python\n",
        "np.array([1, 4, 2, 5, 3], dtype='str')[1] + '1'   \n",
        "# '4' + '1' = '41'\n",
        "\n",
        "np.array([1, -4, 2, 0, 3], dtype='bool')[3] or np.array([1, -4, 2, 0, 3])[1]\n",
        "# False (0 -> False) or True (-4 -> True) = True\n",
        "\n",
        "np.array([1, -4, 2, 0, 3], dtype='bool')[3] and np.array([1, -4, 2, 0, 3])[1]\n",
        "# False (0 -> False) and True (-4 -> True) = False\n",
        "\n",
        "np.array([1, -4, 2, 0, True], dtype='int64')[-1]\n",
        "# Последний элемент = 1 (True -> 1)\n",
        "\n",
        "np.array([1, -4, 2, 0, 1j], dtype='int64')[1]\n",
        "# Ошибка: невозможно преобразовать комплексное число в int64.\n",
        "\n",
        "np.array([1, -4, 2, 0, 1j], dtype='str')[-1]\n",
        "# Последний элемент = '1j'\n",
        "\n",
        "np.array([1, 4, 2, 5, '3'])[-1] * 3\n",
        "# '3' * 3 = '333'\n",
        "```"
      ]
    },
    {
      "cell_type": "markdown",
      "metadata": {
        "id": "X50PESx7xVAc"
      },
      "source": [
        "**3**. Каков результат операции?\n",
        "\n",
        "``` python\n",
        "np.ones((3, 5), dtype=float)        # Матрица 3x5 из единиц, dtype=float\n",
        "np.full((3, 5), 3.14)               # Матрица 3x5, заполненная числом 3.14\n",
        "np.linspace(0, 1, 5)                # 5 чисел равномерно от 0 до 1: [0., 0.25, 0.5, 0.75, 1.]\n",
        "np.diag((1, 3, 5))                  # Диагональная матрица с элементами 1, 3, 5 на диагонали\n",
        "np.smile((1, 3, 5))                 # Ошибка: функция `smile` не существует\n",
        "np.random.random((3, 3))            # Случайная матрица 3x3\n",
        "np.eye(3)                           # Единичная матрица 3x3\n",
        "np.empty(3)                         # Массив из 3 элементов (неинициализированный, содержит случайные значения)\n",
        "```\n",
        "\n"
      ]
    },
    {
      "cell_type": "markdown",
      "metadata": {
        "id": "D6Bt-8cfAWrA"
      },
      "source": [
        "**4**. Дан двумерный массив X, что будет выведено в консоль?\n",
        "\n",
        "``` python\n",
        "X = np.array([[3, 5, 2, 4],\n",
        "      [7, 6, 8, 8],\n",
        "      [1, 6, 7, 7]])\n",
        "```\n",
        "\n",
        "``` python\n",
        "X[0, 0]                # 3 (первый элемент)\n",
        "X[-1, -1]              # 7 (последний элемент)\n",
        "X[0:1, -1]             # [4] (срез строки 0 и последний столбец)\n",
        "X[0:2, -1]             # [4, 8]\n",
        "X[0:2, 0:2]            # [[3, 5], [7, 6]]\n",
        "X[1, 1:3]              # [6, 8]\n",
        "X[1, :]                # [7, 6, 8, 8]\n",
        "X[:, :]                # [[3, 5, 2, 4], [7, 6, 8, 8], [1, 6, 7, 7]]\n",
        "X[:]                   # То же, что и `X[:, :]`\n",
        "X[::2, ::2]            # [[3, 2], [1, 7]]\n",
        "X[0:3:2, 0:3:2]        # [[3, 2], [1, 7]]\n",
        "X[::-1, ::-1]          # Полностью перевернутая матрица: [[7, 7, 6, 1], [8, 8, 6, 7], [4, 2, 5, 3]]\n",
        "```"
      ]
    },
    {
      "cell_type": "markdown",
      "metadata": {
        "id": "0aFgoKm_lDTk"
      },
      "source": [
        "**5**. Дан двумерный массив grid, в чем различее между операциями?\n",
        "\n",
        "\n",
        "``` python\n",
        "grid = np.arange(16).reshape((4, 4))\n",
        "```\n",
        "\n",
        "``` python\n",
        "np.split(grid, [2])                 # Разделит на две части по строкам: [[0-7], [8-15]]\n",
        "np.split(grid, [2], axis=1)         # Разделит на две части по столбцам: [[0, 1], [2, 3], ...]\n",
        "```\n"
      ]
    },
    {
      "cell_type": "markdown",
      "metadata": {
        "id": "NJUh69AXlDTk"
      },
      "source": [
        "**6**. В чем различие между операциями?\n",
        "\n",
        "``` python\n",
        "    [1, 2, 3] + [3, 2, 1]               # Списки: [1, 2, 3, 3, 2, 1]\n",
        "np.array([1, 2, 3]) + np.array([3, 2, 1])  # Массивы: [4, 4, 4] (поэлементное сложение)\n",
        "```"
      ]
    },
    {
      "cell_type": "markdown",
      "metadata": {
        "id": "mXUh6LGglDTk"
      },
      "source": [
        "**7**. Как в CodeLab измерить время выполнения кода?\n",
        "``` python\n",
        "# Способ 1: Встроенный magic-команда в Jupyter\n",
        "%timeit np.arange(1000)\n",
        "\n",
        "# Способ 2: Использование библиотеки time\n",
        "import time\n",
        "start = time.time()\n",
        "np.arange(1000)\n",
        "end = time.time()\n",
        "print(\"Время выполнения:\", end - start)\n",
        "```"
      ]
    },
    {
      "cell_type": "markdown",
      "metadata": {
        "id": "7dn18OGnlDTk"
      },
      "source": [
        "**8**. Дан массив X, каковы результаты операций?\n",
        "\n",
        "```python\n",
        "X = np.array([[3, 5, 2, 4],\n",
        "      [7, 6, 8, 8],\n",
        "      [1, 6, 7, 7]])\n",
        "\n",
        "np.sum(X)               # Сумма всех элементов\n",
        "np.sum(X, axis=1)       # Сумма по строкам: [14, 29, 21]\n",
        "np.sum(X, axis=0)       # Сумма по столбцам: [11, 17, 17, 19]\n",
        "np.sum(X, axis=2)       # Ошибка: двумерный массив\n",
        "np.sum(X, 1)            # То же, что и `axis=1`\n",
        "sum(X)                  # Сумма строк: [[3, 5, ...], ...]\n",
        "sum(X, 1)               # Ошибка: в `sum` нет параметра `axis`\n",
        "```"
      ]
    },
    {
      "cell_type": "markdown",
      "metadata": {
        "id": "sKQpN1PZlDTk"
      },
      "source": [
        "**9**. Дан массив X, что будет выведено в консоль?\n",
        "\n",
        "```python\n",
        "X = np.array([1,2,3,4])\n",
        "\n",
        "X > 3                      # [False, False, False, True]\n",
        "X < 3                      # [True, True, False, False]\n",
        "X[X < 3]                   # [1, 2]\n",
        "X[X > 3]                   # [4]\n",
        "X[X != 3]                  # [1, 2, 4]\n",
        "```"
      ]
    },
    {
      "cell_type": "markdown",
      "metadata": {
        "id": "bn7aP438lDTk"
      },
      "source": [
        "**10**.  В чем преимущество массивов NumPy по сравнению с обычными списками.  Чем обусловлено это преимущество?\n",
        "\n",
        "Скорость: Массивы NumPy используют оптимизированные C/Fortran-библиотеки, что делает их быстрее списков Python.\n",
        "Меньше памяти: NumPy массивы хранят данные компактно (один тип данных для всех элементов).\n",
        "Векторизация: Поддержка операций над массивами без циклов, что упрощает код и ускоряет вычисления."
      ]
    }
  ],
  "metadata": {
    "colab": {
      "provenance": []
    },
    "kernelspec": {
      "display_name": "Python 3",
      "name": "python3"
    },
    "language_info": {
      "codemirror_mode": {
        "name": "ipython",
        "version": 3
      },
      "file_extension": ".py",
      "mimetype": "text/x-python",
      "name": "python",
      "nbconvert_exporter": "python",
      "pygments_lexer": "ipython3",
      "version": "3.12.2"
    }
  },
  "nbformat": 4,
  "nbformat_minor": 0
}